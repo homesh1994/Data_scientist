{
 "cells": [
  {
   "cell_type": "code",
   "execution_count": 1,
   "id": "d30b399c",
   "metadata": {
    "ExecuteTime": {
     "end_time": "2023-08-23T18:40:12.286350Z",
     "start_time": "2023-08-23T18:40:11.882546Z"
    }
   },
   "outputs": [],
   "source": [
    "import numpy as np"
   ]
  },
  {
   "cell_type": "code",
   "execution_count": 2,
   "id": "15ea5eba",
   "metadata": {
    "ExecuteTime": {
     "end_time": "2023-08-23T18:40:38.932336Z",
     "start_time": "2023-08-23T18:40:38.914981Z"
    }
   },
   "outputs": [],
   "source": [
    "m=np.random.randn(4,5)"
   ]
  },
  {
   "cell_type": "code",
   "execution_count": 3,
   "id": "2308c0dc",
   "metadata": {
    "ExecuteTime": {
     "end_time": "2023-08-23T18:40:44.758462Z",
     "start_time": "2023-08-23T18:40:44.586522Z"
    }
   },
   "outputs": [
    {
     "data": {
      "text/plain": [
       "array([[-0.8968741 , -1.36513229, -1.14384382, -0.16175906,  0.91882546],\n",
       "       [ 0.77842841,  0.8679675 ,  0.33151491, -1.03945089,  2.62010266],\n",
       "       [ 1.26917071,  1.3562604 , -0.4576038 ,  0.80569805, -0.4995541 ],\n",
       "       [-0.23682125,  1.25028423,  0.76512147, -0.23011395,  0.45820267]])"
      ]
     },
     "execution_count": 3,
     "metadata": {},
     "output_type": "execute_result"
    }
   ],
   "source": [
    "m"
   ]
  },
  {
   "cell_type": "code",
   "execution_count": 4,
   "id": "34534d8b",
   "metadata": {
    "ExecuteTime": {
     "end_time": "2023-08-23T18:43:13.345202Z",
     "start_time": "2023-08-23T18:43:06.367136Z"
    }
   },
   "outputs": [],
   "source": [
    "import pandas as pd"
   ]
  },
  {
   "cell_type": "code",
   "execution_count": 5,
   "id": "9dc9dc6e",
   "metadata": {
    "ExecuteTime": {
     "end_time": "2023-08-23T18:47:55.173962Z",
     "start_time": "2023-08-23T18:47:55.121742Z"
    }
   },
   "outputs": [],
   "source": [
    "df=pd.DataFrame(m,['A','B','C','D'],['x1','x2','x3','x4','x5'])"
   ]
  },
  {
   "cell_type": "code",
   "execution_count": 6,
   "id": "e4e26c99",
   "metadata": {
    "ExecuteTime": {
     "end_time": "2023-08-23T18:48:00.569528Z",
     "start_time": "2023-08-23T18:48:00.281807Z"
    }
   },
   "outputs": [
    {
     "data": {
      "text/html": [
       "<div>\n",
       "<style scoped>\n",
       "    .dataframe tbody tr th:only-of-type {\n",
       "        vertical-align: middle;\n",
       "    }\n",
       "\n",
       "    .dataframe tbody tr th {\n",
       "        vertical-align: top;\n",
       "    }\n",
       "\n",
       "    .dataframe thead th {\n",
       "        text-align: right;\n",
       "    }\n",
       "</style>\n",
       "<table border=\"1\" class=\"dataframe\">\n",
       "  <thead>\n",
       "    <tr style=\"text-align: right;\">\n",
       "      <th></th>\n",
       "      <th>x1</th>\n",
       "      <th>x2</th>\n",
       "      <th>x3</th>\n",
       "      <th>x4</th>\n",
       "      <th>x5</th>\n",
       "    </tr>\n",
       "  </thead>\n",
       "  <tbody>\n",
       "    <tr>\n",
       "      <th>A</th>\n",
       "      <td>-0.896874</td>\n",
       "      <td>-1.365132</td>\n",
       "      <td>-1.143844</td>\n",
       "      <td>-0.161759</td>\n",
       "      <td>0.918825</td>\n",
       "    </tr>\n",
       "    <tr>\n",
       "      <th>B</th>\n",
       "      <td>0.778428</td>\n",
       "      <td>0.867968</td>\n",
       "      <td>0.331515</td>\n",
       "      <td>-1.039451</td>\n",
       "      <td>2.620103</td>\n",
       "    </tr>\n",
       "    <tr>\n",
       "      <th>C</th>\n",
       "      <td>1.269171</td>\n",
       "      <td>1.356260</td>\n",
       "      <td>-0.457604</td>\n",
       "      <td>0.805698</td>\n",
       "      <td>-0.499554</td>\n",
       "    </tr>\n",
       "    <tr>\n",
       "      <th>D</th>\n",
       "      <td>-0.236821</td>\n",
       "      <td>1.250284</td>\n",
       "      <td>0.765121</td>\n",
       "      <td>-0.230114</td>\n",
       "      <td>0.458203</td>\n",
       "    </tr>\n",
       "  </tbody>\n",
       "</table>\n",
       "</div>"
      ],
      "text/plain": [
       "         x1        x2        x3        x4        x5\n",
       "A -0.896874 -1.365132 -1.143844 -0.161759  0.918825\n",
       "B  0.778428  0.867968  0.331515 -1.039451  2.620103\n",
       "C  1.269171  1.356260 -0.457604  0.805698 -0.499554\n",
       "D -0.236821  1.250284  0.765121 -0.230114  0.458203"
      ]
     },
     "execution_count": 6,
     "metadata": {},
     "output_type": "execute_result"
    }
   ],
   "source": [
    "df"
   ]
  },
  {
   "cell_type": "code",
   "execution_count": 7,
   "id": "0b87d125",
   "metadata": {
    "ExecuteTime": {
     "end_time": "2023-08-23T18:49:34.251962Z",
     "start_time": "2023-08-23T18:49:34.230152Z"
    }
   },
   "outputs": [],
   "source": [
    "df['x1+x2']=df['x1']+df['x2']"
   ]
  },
  {
   "cell_type": "code",
   "execution_count": 8,
   "id": "d82c606e",
   "metadata": {
    "ExecuteTime": {
     "end_time": "2023-08-23T18:49:40.866979Z",
     "start_time": "2023-08-23T18:49:40.840160Z"
    }
   },
   "outputs": [
    {
     "data": {
      "text/html": [
       "<div>\n",
       "<style scoped>\n",
       "    .dataframe tbody tr th:only-of-type {\n",
       "        vertical-align: middle;\n",
       "    }\n",
       "\n",
       "    .dataframe tbody tr th {\n",
       "        vertical-align: top;\n",
       "    }\n",
       "\n",
       "    .dataframe thead th {\n",
       "        text-align: right;\n",
       "    }\n",
       "</style>\n",
       "<table border=\"1\" class=\"dataframe\">\n",
       "  <thead>\n",
       "    <tr style=\"text-align: right;\">\n",
       "      <th></th>\n",
       "      <th>x1</th>\n",
       "      <th>x2</th>\n",
       "      <th>x3</th>\n",
       "      <th>x4</th>\n",
       "      <th>x5</th>\n",
       "      <th>x1+x2</th>\n",
       "    </tr>\n",
       "  </thead>\n",
       "  <tbody>\n",
       "    <tr>\n",
       "      <th>A</th>\n",
       "      <td>-0.896874</td>\n",
       "      <td>-1.365132</td>\n",
       "      <td>-1.143844</td>\n",
       "      <td>-0.161759</td>\n",
       "      <td>0.918825</td>\n",
       "      <td>-2.262006</td>\n",
       "    </tr>\n",
       "    <tr>\n",
       "      <th>B</th>\n",
       "      <td>0.778428</td>\n",
       "      <td>0.867968</td>\n",
       "      <td>0.331515</td>\n",
       "      <td>-1.039451</td>\n",
       "      <td>2.620103</td>\n",
       "      <td>1.646396</td>\n",
       "    </tr>\n",
       "    <tr>\n",
       "      <th>C</th>\n",
       "      <td>1.269171</td>\n",
       "      <td>1.356260</td>\n",
       "      <td>-0.457604</td>\n",
       "      <td>0.805698</td>\n",
       "      <td>-0.499554</td>\n",
       "      <td>2.625431</td>\n",
       "    </tr>\n",
       "    <tr>\n",
       "      <th>D</th>\n",
       "      <td>-0.236821</td>\n",
       "      <td>1.250284</td>\n",
       "      <td>0.765121</td>\n",
       "      <td>-0.230114</td>\n",
       "      <td>0.458203</td>\n",
       "      <td>1.013463</td>\n",
       "    </tr>\n",
       "  </tbody>\n",
       "</table>\n",
       "</div>"
      ],
      "text/plain": [
       "         x1        x2        x3        x4        x5     x1+x2\n",
       "A -0.896874 -1.365132 -1.143844 -0.161759  0.918825 -2.262006\n",
       "B  0.778428  0.867968  0.331515 -1.039451  2.620103  1.646396\n",
       "C  1.269171  1.356260 -0.457604  0.805698 -0.499554  2.625431\n",
       "D -0.236821  1.250284  0.765121 -0.230114  0.458203  1.013463"
      ]
     },
     "execution_count": 8,
     "metadata": {},
     "output_type": "execute_result"
    }
   ],
   "source": [
    "df"
   ]
  },
  {
   "cell_type": "code",
   "execution_count": 12,
   "id": "2fe111c7",
   "metadata": {
    "ExecuteTime": {
     "end_time": "2023-08-23T18:53:11.573208Z",
     "start_time": "2023-08-23T18:53:11.542510Z"
    }
   },
   "outputs": [
    {
     "data": {
      "text/html": [
       "<div>\n",
       "<style scoped>\n",
       "    .dataframe tbody tr th:only-of-type {\n",
       "        vertical-align: middle;\n",
       "    }\n",
       "\n",
       "    .dataframe tbody tr th {\n",
       "        vertical-align: top;\n",
       "    }\n",
       "\n",
       "    .dataframe thead th {\n",
       "        text-align: right;\n",
       "    }\n",
       "</style>\n",
       "<table border=\"1\" class=\"dataframe\">\n",
       "  <thead>\n",
       "    <tr style=\"text-align: right;\">\n",
       "      <th></th>\n",
       "      <th>x1</th>\n",
       "      <th>x2</th>\n",
       "      <th>x3</th>\n",
       "      <th>x4</th>\n",
       "      <th>x5</th>\n",
       "    </tr>\n",
       "  </thead>\n",
       "  <tbody>\n",
       "    <tr>\n",
       "      <th>A</th>\n",
       "      <td>-0.896874</td>\n",
       "      <td>-1.365132</td>\n",
       "      <td>-1.143844</td>\n",
       "      <td>-0.161759</td>\n",
       "      <td>0.918825</td>\n",
       "    </tr>\n",
       "    <tr>\n",
       "      <th>B</th>\n",
       "      <td>0.778428</td>\n",
       "      <td>0.867968</td>\n",
       "      <td>0.331515</td>\n",
       "      <td>-1.039451</td>\n",
       "      <td>2.620103</td>\n",
       "    </tr>\n",
       "    <tr>\n",
       "      <th>C</th>\n",
       "      <td>1.269171</td>\n",
       "      <td>1.356260</td>\n",
       "      <td>-0.457604</td>\n",
       "      <td>0.805698</td>\n",
       "      <td>-0.499554</td>\n",
       "    </tr>\n",
       "    <tr>\n",
       "      <th>D</th>\n",
       "      <td>-0.236821</td>\n",
       "      <td>1.250284</td>\n",
       "      <td>0.765121</td>\n",
       "      <td>-0.230114</td>\n",
       "      <td>0.458203</td>\n",
       "    </tr>\n",
       "  </tbody>\n",
       "</table>\n",
       "</div>"
      ],
      "text/plain": [
       "         x1        x2        x3        x4        x5\n",
       "A -0.896874 -1.365132 -1.143844 -0.161759  0.918825\n",
       "B  0.778428  0.867968  0.331515 -1.039451  2.620103\n",
       "C  1.269171  1.356260 -0.457604  0.805698 -0.499554\n",
       "D -0.236821  1.250284  0.765121 -0.230114  0.458203"
      ]
     },
     "execution_count": 12,
     "metadata": {},
     "output_type": "execute_result"
    }
   ],
   "source": [
    "df.drop('x1+x2',axis=1)"
   ]
  },
  {
   "cell_type": "code",
   "execution_count": 11,
   "id": "854affa1",
   "metadata": {
    "ExecuteTime": {
     "end_time": "2023-08-23T18:52:21.693576Z",
     "start_time": "2023-08-23T18:52:21.655961Z"
    }
   },
   "outputs": [
    {
     "data": {
      "text/html": [
       "<div>\n",
       "<style scoped>\n",
       "    .dataframe tbody tr th:only-of-type {\n",
       "        vertical-align: middle;\n",
       "    }\n",
       "\n",
       "    .dataframe tbody tr th {\n",
       "        vertical-align: top;\n",
       "    }\n",
       "\n",
       "    .dataframe thead th {\n",
       "        text-align: right;\n",
       "    }\n",
       "</style>\n",
       "<table border=\"1\" class=\"dataframe\">\n",
       "  <thead>\n",
       "    <tr style=\"text-align: right;\">\n",
       "      <th></th>\n",
       "      <th>x1</th>\n",
       "      <th>x2</th>\n",
       "      <th>x3</th>\n",
       "      <th>x4</th>\n",
       "      <th>x5</th>\n",
       "      <th>x1+x2</th>\n",
       "    </tr>\n",
       "  </thead>\n",
       "  <tbody>\n",
       "    <tr>\n",
       "      <th>A</th>\n",
       "      <td>-0.896874</td>\n",
       "      <td>-1.365132</td>\n",
       "      <td>-1.143844</td>\n",
       "      <td>-0.161759</td>\n",
       "      <td>0.918825</td>\n",
       "      <td>-2.262006</td>\n",
       "    </tr>\n",
       "    <tr>\n",
       "      <th>B</th>\n",
       "      <td>0.778428</td>\n",
       "      <td>0.867968</td>\n",
       "      <td>0.331515</td>\n",
       "      <td>-1.039451</td>\n",
       "      <td>2.620103</td>\n",
       "      <td>1.646396</td>\n",
       "    </tr>\n",
       "    <tr>\n",
       "      <th>C</th>\n",
       "      <td>1.269171</td>\n",
       "      <td>1.356260</td>\n",
       "      <td>-0.457604</td>\n",
       "      <td>0.805698</td>\n",
       "      <td>-0.499554</td>\n",
       "      <td>2.625431</td>\n",
       "    </tr>\n",
       "    <tr>\n",
       "      <th>D</th>\n",
       "      <td>-0.236821</td>\n",
       "      <td>1.250284</td>\n",
       "      <td>0.765121</td>\n",
       "      <td>-0.230114</td>\n",
       "      <td>0.458203</td>\n",
       "      <td>1.013463</td>\n",
       "    </tr>\n",
       "  </tbody>\n",
       "</table>\n",
       "</div>"
      ],
      "text/plain": [
       "         x1        x2        x3        x4        x5     x1+x2\n",
       "A -0.896874 -1.365132 -1.143844 -0.161759  0.918825 -2.262006\n",
       "B  0.778428  0.867968  0.331515 -1.039451  2.620103  1.646396\n",
       "C  1.269171  1.356260 -0.457604  0.805698 -0.499554  2.625431\n",
       "D -0.236821  1.250284  0.765121 -0.230114  0.458203  1.013463"
      ]
     },
     "execution_count": 11,
     "metadata": {},
     "output_type": "execute_result"
    }
   ],
   "source": [
    "df"
   ]
  },
  {
   "cell_type": "code",
   "execution_count": 14,
   "id": "2dc0b50f",
   "metadata": {
    "ExecuteTime": {
     "end_time": "2023-08-23T18:54:40.561533Z",
     "start_time": "2023-08-23T18:54:40.539114Z"
    }
   },
   "outputs": [],
   "source": [
    "df.drop('x1+x2',axis=1,inplace=True)"
   ]
  },
  {
   "cell_type": "code",
   "execution_count": 15,
   "id": "8f9d3fb4",
   "metadata": {
    "ExecuteTime": {
     "end_time": "2023-08-23T18:54:46.343354Z",
     "start_time": "2023-08-23T18:54:46.317469Z"
    }
   },
   "outputs": [
    {
     "data": {
      "text/html": [
       "<div>\n",
       "<style scoped>\n",
       "    .dataframe tbody tr th:only-of-type {\n",
       "        vertical-align: middle;\n",
       "    }\n",
       "\n",
       "    .dataframe tbody tr th {\n",
       "        vertical-align: top;\n",
       "    }\n",
       "\n",
       "    .dataframe thead th {\n",
       "        text-align: right;\n",
       "    }\n",
       "</style>\n",
       "<table border=\"1\" class=\"dataframe\">\n",
       "  <thead>\n",
       "    <tr style=\"text-align: right;\">\n",
       "      <th></th>\n",
       "      <th>x1</th>\n",
       "      <th>x2</th>\n",
       "      <th>x3</th>\n",
       "      <th>x4</th>\n",
       "      <th>x5</th>\n",
       "    </tr>\n",
       "  </thead>\n",
       "  <tbody>\n",
       "    <tr>\n",
       "      <th>A</th>\n",
       "      <td>-0.896874</td>\n",
       "      <td>-1.365132</td>\n",
       "      <td>-1.143844</td>\n",
       "      <td>-0.161759</td>\n",
       "      <td>0.918825</td>\n",
       "    </tr>\n",
       "    <tr>\n",
       "      <th>B</th>\n",
       "      <td>0.778428</td>\n",
       "      <td>0.867968</td>\n",
       "      <td>0.331515</td>\n",
       "      <td>-1.039451</td>\n",
       "      <td>2.620103</td>\n",
       "    </tr>\n",
       "    <tr>\n",
       "      <th>C</th>\n",
       "      <td>1.269171</td>\n",
       "      <td>1.356260</td>\n",
       "      <td>-0.457604</td>\n",
       "      <td>0.805698</td>\n",
       "      <td>-0.499554</td>\n",
       "    </tr>\n",
       "    <tr>\n",
       "      <th>D</th>\n",
       "      <td>-0.236821</td>\n",
       "      <td>1.250284</td>\n",
       "      <td>0.765121</td>\n",
       "      <td>-0.230114</td>\n",
       "      <td>0.458203</td>\n",
       "    </tr>\n",
       "  </tbody>\n",
       "</table>\n",
       "</div>"
      ],
      "text/plain": [
       "         x1        x2        x3        x4        x5\n",
       "A -0.896874 -1.365132 -1.143844 -0.161759  0.918825\n",
       "B  0.778428  0.867968  0.331515 -1.039451  2.620103\n",
       "C  1.269171  1.356260 -0.457604  0.805698 -0.499554\n",
       "D -0.236821  1.250284  0.765121 -0.230114  0.458203"
      ]
     },
     "execution_count": 15,
     "metadata": {},
     "output_type": "execute_result"
    }
   ],
   "source": [
    "df"
   ]
  },
  {
   "cell_type": "code",
   "execution_count": 28,
   "id": "2a8f5252",
   "metadata": {
    "ExecuteTime": {
     "end_time": "2023-08-23T19:27:56.609434Z",
     "start_time": "2023-08-23T19:27:56.584491Z"
    }
   },
   "outputs": [
    {
     "data": {
      "text/html": [
       "<div>\n",
       "<style scoped>\n",
       "    .dataframe tbody tr th:only-of-type {\n",
       "        vertical-align: middle;\n",
       "    }\n",
       "\n",
       "    .dataframe tbody tr th {\n",
       "        vertical-align: top;\n",
       "    }\n",
       "\n",
       "    .dataframe thead th {\n",
       "        text-align: right;\n",
       "    }\n",
       "</style>\n",
       "<table border=\"1\" class=\"dataframe\">\n",
       "  <thead>\n",
       "    <tr style=\"text-align: right;\">\n",
       "      <th></th>\n",
       "      <th>x1</th>\n",
       "      <th>x2</th>\n",
       "      <th>x3</th>\n",
       "      <th>x4</th>\n",
       "      <th>x5</th>\n",
       "    </tr>\n",
       "  </thead>\n",
       "  <tbody>\n",
       "    <tr>\n",
       "      <th>A</th>\n",
       "      <td>-0.896874</td>\n",
       "      <td>-1.365132</td>\n",
       "      <td>-1.143844</td>\n",
       "      <td>-0.161759</td>\n",
       "      <td>0.918825</td>\n",
       "    </tr>\n",
       "    <tr>\n",
       "      <th>B</th>\n",
       "      <td>0.778428</td>\n",
       "      <td>0.867968</td>\n",
       "      <td>0.331515</td>\n",
       "      <td>-1.039451</td>\n",
       "      <td>2.620103</td>\n",
       "    </tr>\n",
       "    <tr>\n",
       "      <th>C</th>\n",
       "      <td>1.269171</td>\n",
       "      <td>1.356260</td>\n",
       "      <td>-0.457604</td>\n",
       "      <td>0.805698</td>\n",
       "      <td>-0.499554</td>\n",
       "    </tr>\n",
       "    <tr>\n",
       "      <th>D</th>\n",
       "      <td>-0.236821</td>\n",
       "      <td>1.250284</td>\n",
       "      <td>0.765121</td>\n",
       "      <td>-0.230114</td>\n",
       "      <td>0.458203</td>\n",
       "    </tr>\n",
       "  </tbody>\n",
       "</table>\n",
       "</div>"
      ],
      "text/plain": [
       "         x1        x2        x3        x4        x5\n",
       "A -0.896874 -1.365132 -1.143844 -0.161759  0.918825\n",
       "B  0.778428  0.867968  0.331515 -1.039451  2.620103\n",
       "C  1.269171  1.356260 -0.457604  0.805698 -0.499554\n",
       "D -0.236821  1.250284  0.765121 -0.230114  0.458203"
      ]
     },
     "execution_count": 28,
     "metadata": {},
     "output_type": "execute_result"
    }
   ],
   "source": [
    "df[['x2','x4']].iloc[:4]\n",
    "df.iloc[:,0:5]"
   ]
  },
  {
   "cell_type": "code",
   "execution_count": 18,
   "id": "c587d0e7",
   "metadata": {
    "ExecuteTime": {
     "end_time": "2023-08-23T19:15:31.970624Z",
     "start_time": "2023-08-23T19:15:31.955779Z"
    }
   },
   "outputs": [],
   "source": [
    "list2=['x1','x2','x5']"
   ]
  },
  {
   "cell_type": "code",
   "execution_count": 21,
   "id": "220138dc",
   "metadata": {
    "ExecuteTime": {
     "end_time": "2023-08-23T19:16:03.256933Z",
     "start_time": "2023-08-23T19:16:03.244001Z"
    }
   },
   "outputs": [
    {
     "data": {
      "text/plain": [
       "['x1', 'x2', 'x5']"
      ]
     },
     "execution_count": 21,
     "metadata": {},
     "output_type": "execute_result"
    }
   ],
   "source": [
    "list2"
   ]
  },
  {
   "cell_type": "code",
   "execution_count": 22,
   "id": "fb254b20",
   "metadata": {
    "ExecuteTime": {
     "end_time": "2023-08-23T19:16:23.427801Z",
     "start_time": "2023-08-23T19:16:23.402892Z"
    }
   },
   "outputs": [
    {
     "data": {
      "text/html": [
       "<div>\n",
       "<style scoped>\n",
       "    .dataframe tbody tr th:only-of-type {\n",
       "        vertical-align: middle;\n",
       "    }\n",
       "\n",
       "    .dataframe tbody tr th {\n",
       "        vertical-align: top;\n",
       "    }\n",
       "\n",
       "    .dataframe thead th {\n",
       "        text-align: right;\n",
       "    }\n",
       "</style>\n",
       "<table border=\"1\" class=\"dataframe\">\n",
       "  <thead>\n",
       "    <tr style=\"text-align: right;\">\n",
       "      <th></th>\n",
       "      <th>x1</th>\n",
       "      <th>x2</th>\n",
       "      <th>x5</th>\n",
       "    </tr>\n",
       "  </thead>\n",
       "  <tbody>\n",
       "    <tr>\n",
       "      <th>A</th>\n",
       "      <td>-0.896874</td>\n",
       "      <td>-1.365132</td>\n",
       "      <td>0.918825</td>\n",
       "    </tr>\n",
       "    <tr>\n",
       "      <th>B</th>\n",
       "      <td>0.778428</td>\n",
       "      <td>0.867968</td>\n",
       "      <td>2.620103</td>\n",
       "    </tr>\n",
       "    <tr>\n",
       "      <th>C</th>\n",
       "      <td>1.269171</td>\n",
       "      <td>1.356260</td>\n",
       "      <td>-0.499554</td>\n",
       "    </tr>\n",
       "    <tr>\n",
       "      <th>D</th>\n",
       "      <td>-0.236821</td>\n",
       "      <td>1.250284</td>\n",
       "      <td>0.458203</td>\n",
       "    </tr>\n",
       "  </tbody>\n",
       "</table>\n",
       "</div>"
      ],
      "text/plain": [
       "         x1        x2        x5\n",
       "A -0.896874 -1.365132  0.918825\n",
       "B  0.778428  0.867968  2.620103\n",
       "C  1.269171  1.356260 -0.499554\n",
       "D -0.236821  1.250284  0.458203"
      ]
     },
     "execution_count": 22,
     "metadata": {},
     "output_type": "execute_result"
    }
   ],
   "source": [
    "df[list2]"
   ]
  },
  {
   "cell_type": "code",
   "execution_count": null,
   "id": "61f33f46",
   "metadata": {},
   "outputs": [],
   "source": []
  }
 ],
 "metadata": {
  "kernelspec": {
   "display_name": "Python 3 (ipykernel)",
   "language": "python",
   "name": "python3"
  },
  "language_info": {
   "codemirror_mode": {
    "name": "ipython",
    "version": 3
   },
   "file_extension": ".py",
   "mimetype": "text/x-python",
   "name": "python",
   "nbconvert_exporter": "python",
   "pygments_lexer": "ipython3",
   "version": "3.9.13"
  }
 },
 "nbformat": 4,
 "nbformat_minor": 5
}
